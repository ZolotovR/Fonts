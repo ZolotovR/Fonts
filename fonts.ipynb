{
  "nbformat": 4,
  "nbformat_minor": 0,
  "metadata": {
    "colab": {
      "provenance": [],
      "authorship_tag": "ABX9TyNYDINLKTyRWOH+9aK+tf+h",
      "include_colab_link": true
    },
    "kernelspec": {
      "name": "python3",
      "display_name": "Python 3"
    },
    "language_info": {
      "name": "python"
    }
  },
  "cells": [
    {
      "cell_type": "markdown",
      "metadata": {
        "id": "view-in-github",
        "colab_type": "text"
      },
      "source": [
        "<a href=\"https://colab.research.google.com/github/ZolotovR/Fonts/blob/main/fonts.ipynb\" target=\"_parent\"><img src=\"https://colab.research.google.com/assets/colab-badge.svg\" alt=\"Open In Colab\"/></a>"
      ]
    },
    {
      "cell_type": "code",
      "execution_count": 7,
      "metadata": {
        "colab": {
          "base_uri": "https://localhost:8080/"
        },
        "id": "FPgeqsnlfsP_",
        "outputId": "3e869f4f-9e7e-4bd8-ebbc-3656eba0c43c"
      },
      "outputs": [
        {
          "output_type": "stream",
          "name": "stdout",
          "text": [
            "Font file not found: /Users/webiks/Documents/esri_11.ttf\n"
          ]
        }
      ],
      "source": [
        "import os\n",
        "from fontTools.ttLib import TTFont\n",
        "import re\n",
        "\n",
        "def extract_hex_indices(data):\n",
        "    \"\"\"Extract hexadecimal indices from the data.\"\"\"\n",
        "    return re.findall(r\"0x([0-9A-Fa-f]+)\", data)\n",
        "\n",
        "def display_characters(font_path, hex_indices):\n",
        "    \"\"\"Display glyphs from font file based on hex indices.\"\"\"\n",
        "    if not os.path.exists(font_path):\n",
        "        print(f\"Font file not found: {font_path}\")\n",
        "        return\n",
        "\n",
        "    try:\n",
        "        font = TTFont(font_path)\n",
        "        cmap = font.getBestCmap()\n",
        "        for hex_index in hex_indices:\n",
        "            int_index = int(hex_index, 16)\n",
        "            if int_index in cmap:\n",
        "                glyph_name = cmap[int_index]\n",
        "                print(f\"Index: 0x{hex_index} ({int_index}) | Glyph Name: {glyph_name}\")\n",
        "            else:\n",
        "                print(f\"Index: 0x{hex_index} ({int_index}) | Glyph Not Found\")\n",
        "    except Exception as e:\n",
        "        print(f\"Error loading font: {e}\")\n",
        "\n",
        "# נתיב הפונט\n",
        "font_path = \"/Users/webiks/Documents/esri_11.ttf\"\n",
        "\n",
        "# נתונים לדוגמה\n",
        "data = \"\"\"\n",
        "'0x21': 'EC95',\n",
        "'0x22': 'EC79',\n",
        "'0x28': 'EBBE',\n",
        "'0x3D': 'EC35',\n",
        "'0x3F': 'EC93',\n",
        "\"\"\"\n",
        "\n",
        "# חילוץ אינדקסים והרצה\n",
        "hex_indices = extract_hex_indices(data)\n",
        "display_characters(font_path, hex_indices)\n"
      ]
    },
    {
      "cell_type": "code",
      "source": [
        "import os\n",
        "from fontTools.ttLib import TTFont\n",
        "import re\n",
        "\n",
        "def extract_hex_indices(data):\n",
        "    \"\"\"Extract hexadecimal indices from the data.\"\"\"\n",
        "    return re.findall(r\"0x([0-9A-Fa-f]+)\", data)\n",
        "\n",
        "def display_characters(font_path, hex_indices):\n",
        "    \"\"\"Display glyphs from font file based on hex indices.\"\"\"\n",
        "    if not os.path.exists(font_path):\n",
        "        print(f\"Font file not found: {font_path}\")\n",
        "        return\n",
        "\n",
        "    try:\n",
        "        font = TTFont(font_path)\n",
        "        cmap = font.getBestCmap()\n",
        "        for hex_index in hex_indices:\n",
        "            int_index = int(hex_index, 16)\n",
        "            if int_index in cmap:\n",
        "                glyph_name = cmap[int_index]\n",
        "                print(f\"Index: 0x{hex_index} ({int_index}) | Glyph Name: {glyph_name}\")\n",
        "            else:\n",
        "                print(f\"Index: 0x{hex_index} ({int_index}) | Glyph Not Found\")\n",
        "    except Exception as e:\n",
        "        print(f\"Error loading font: {e}\")\n",
        "\n",
        "# נתיב הפונט\n",
        "font_path = \"/Users/webiks/Documents/esri_11.ttf\"\n",
        "\n",
        "# נתונים לדוגמה\n",
        "data = \"\"\"\n",
        "'0x21': 'EC95',\n",
        "'0x22': 'EC79',\n",
        "'0x28': 'EBBE',\n",
        "'0x3D': 'EC35',\n",
        "'0x3F': 'EC93',\n",
        "\"\"\"\n",
        "\n",
        "# חילוץ אינדקסים והרצה\n",
        "hex_indices = extract_hex_indices(data)\n",
        "display_characters(font_path, hex_indices)\n"
      ],
      "metadata": {
        "colab": {
          "base_uri": "https://localhost:8080/"
        },
        "id": "qMrSq7e24DWt",
        "outputId": "012c9301-5aae-4524-e471-b25531c6a5ea"
      },
      "execution_count": 11,
      "outputs": [
        {
          "output_type": "stream",
          "name": "stdout",
          "text": [
            "Font file not found: /Users/webiks/Documents/esri_11.ttf\n"
          ]
        }
      ]
    },
    {
      "cell_type": "code",
      "source": [
        "from fontTools.ttLib import TTFont\n",
        "\n",
        "try:\n",
        "    font = TTFont(font_path)\n",
        "    print(\"Font loaded successfully!\")\n",
        "except Exception as e:\n",
        "    print(f\"Error loading font: {e}\")"
      ],
      "metadata": {
        "colab": {
          "base_uri": "https://localhost:8080/"
        },
        "id": "yu-YUGxf3mLr",
        "outputId": "4ecdac19-a1dc-4986-844f-f52172ea4010"
      },
      "execution_count": 10,
      "outputs": [
        {
          "output_type": "stream",
          "name": "stdout",
          "text": [
            "Error loading font: [Errno 2] No such file or directory: '/Users/webiks/Documents/esri_11.ttf'\n"
          ]
        }
      ]
    }
  ]
}